{
 "cells": [
  {
   "cell_type": "markdown",
   "metadata": {
    "colab_type": "text",
    "id": "view-in-github"
   },
   "source": [
    "<a href=\"https://colab.research.google.com/github/el-eshaano/ml/blob/main/BPE_Tokeniser.ipynb\" target=\"_parent\"><img src=\"https://colab.research.google.com/assets/colab-badge.svg\" alt=\"Open In Colab\"/></a>"
   ]
  },
  {
   "cell_type": "code",
   "execution_count": 1,
   "metadata": {
    "id": "Q60lEirdPouI"
   },
   "outputs": [],
   "source": [
    "from typing import Dict, Tuple\n",
    "from tqdm.notebook import tqdm"
   ]
  },
  {
   "cell_type": "code",
   "execution_count": 3,
   "metadata": {
    "id": "gpm9Sta7M4C0"
   },
   "outputs": [],
   "source": [
    "with open('../datasets/Shakespeare/input.txt', 'r', encoding='utf-8') as f:\n",
    "    text = f.read()\n",
    "\n",
    "unique_chars = sorted(list(set(text)))\n",
    "vocab_size = len(unique_chars)\n",
    "\n",
    "stoi = { ch:i for i,ch in enumerate(unique_chars) }\n",
    "itos = { i:ch for i,ch in enumerate(unique_chars) }\n",
    "\n",
    "tokens = [stoi[x] for x in list(text)]"
   ]
  },
  {
   "cell_type": "code",
   "execution_count": 4,
   "metadata": {
    "id": "3i0IKq2ORvnR"
   },
   "outputs": [],
   "source": [
    "def get_pair_counts(tokens: list[int]) -> Dict[Tuple[int, int], int]:\n",
    "\n",
    "    pair_counts = {}\n",
    "    for pair in zip(tokens, tokens[1:]):\n",
    "        pair_counts[pair] = pair_counts.get(pair, 0) + 1\n",
    "\n",
    "    return pair_counts\n",
    "\n",
    "def replace_pair(arr, pair, replacement):\n",
    "\n",
    "    new_arr = []\n",
    "    i = 0\n",
    "    while i < len(arr):\n",
    "        if i < len(arr) - 1 and arr[i] == pair[0] and arr[i+1] == pair[1]:\n",
    "            new_arr.append(replacement)\n",
    "            i += 2\n",
    "        else:\n",
    "            new_arr.append(arr[i])\n",
    "            i += 1\n",
    "\n",
    "    return new_arr"
   ]
  },
  {
   "cell_type": "code",
   "execution_count": 5,
   "metadata": {
    "colab": {
     "base_uri": "https://localhost:8080/",
     "height": 17,
     "referenced_widgets": [
      "af4ab1812ecf4266a3bf5c4b12254e6b",
      "2a1589b745c24c5e9d71dfb6baacb666",
      "079afcb7f6504d73bd50b980d4416f09",
      "5d13669947044fee8525ff4729c29e1b",
      "c37ace5d97354cd798571c1f0f650f20",
      "fff32d7f20544f81b82783174d267233",
      "10de8c608b6b4b9891eeff42eb1ea96b",
      "dd0930cfa62a4d05b17e574da7859dbd",
      "2bf0ea40066343e7841883d8481dd294",
      "358d314789f543e48848af01bbfcc39c",
      "625ec8be45b247e198fedb29c92cb4aa"
     ]
    },
    "id": "vpH68w0DSmI3",
    "outputId": "42f77c8b-14f6-40d5-ec26-bba32c52734a"
   },
   "outputs": [
    {
     "data": {
      "application/vnd.jupyter.widget-view+json": {
       "model_id": "",
       "version_major": 2,
       "version_minor": 0
      },
      "text/plain": [
       "Merges:   0%|          | 0/211 [00:00<?, ?it/s]"
      ]
     },
     "metadata": {},
     "output_type": "display_data"
    }
   ],
   "source": [
    "desired_vocab_size = 256\n",
    "current_vocab_size = vocab_size\n",
    "# ---\n",
    "\n",
    "num_merges = desired_vocab_size - current_vocab_size\n",
    "ids = list(tokens)\n",
    "\n",
    "merges = {}\n",
    "for i in tqdm(range(num_merges), desc=\"Merges: \", leave=False):\n",
    "    pair_counts = get_pair_counts(ids)\n",
    "    max_occuring_pair = max(pair_counts, key=pair_counts.get)\n",
    "\n",
    "    if pair_counts[max_occuring_pair] == 1:\n",
    "        print(\"Max pair only occurs once, breaking from loop\")\n",
    "        break\n",
    "\n",
    "    new_token_code = current_vocab_size + i\n",
    "    ids = replace_pair(ids, max_occuring_pair, new_token_code)\n",
    "    merges[max_occuring_pair] = new_token_code\n",
    "\n"
   ]
  },
  {
   "cell_type": "code",
   "execution_count": 6,
   "metadata": {
    "colab": {
     "base_uri": "https://localhost:8080/"
    },
    "id": "jmj5JkUsTBVP",
    "outputId": "7c1e7182-c610-42b7-f18f-f73d38f0b757"
   },
   "outputs": [
    {
     "name": "stdout",
     "output_type": "stream",
     "text": [
      "276\n"
     ]
    }
   ],
   "source": [
    "vocab = itos.copy()\n",
    "for (p0, p1), idx in merges.items(): # ordered dictionaries baby (ly python >= 3.8)\n",
    "    vocab[idx] = vocab[p0] + vocab[p1]\n",
    "\n",
    "print(len(vocab))\n",
    "# print(vocab)"
   ]
  },
  {
   "cell_type": "code",
   "execution_count": 7,
   "metadata": {
    "id": "EW6AQDyzV3RH"
   },
   "outputs": [],
   "source": [
    "def decode(ids):\n",
    "  \"\"\" given ids (list of integers), return Python string \"\"\"\n",
    "  tokens = \"\".join(vocab[idx] for idx in ids)\n",
    "  return tokens"
   ]
  },
  {
   "cell_type": "code",
   "execution_count": 8,
   "metadata": {
    "id": "A33asZhMWvAC"
   },
   "outputs": [],
   "source": [
    "def encode(string):\n",
    "    toks = [stoi[x] for x in string]\n",
    "    while len(toks) >= 2: # avoid error when only 1 token is passed\n",
    "        pair_counts = get_pair_counts(toks)\n",
    "        pair = min(pair_counts, key=lambda p: merges.get(p, float(\"inf\")))\n",
    "        if pair not in merges:\n",
    "            break # no more possible merges\n",
    "\n",
    "        new_token = merges[pair]\n",
    "        toks = replace_pair(toks, pair, new_token)\n",
    "    return toks"
   ]
  },
  {
   "cell_type": "code",
   "execution_count": 9,
   "metadata": {
    "id": "PRFNuMnShP2E"
   },
   "outputs": [],
   "source": [
    "class BPETokeniser:\n",
    "\n",
    "    def __init__(self):\n",
    "        self.stoi = {}\n",
    "        self.vocab = {}\n",
    "        self.merges = {}\n",
    "\n",
    "    def decode(self, ids):\n",
    "        \"\"\" given ids (list of integers), return Python string \"\"\"\n",
    "        tokens = \"\".join(self.vocab[idx] for idx in ids)\n",
    "        return tokens\n",
    "\n",
    "    def encode(string):\n",
    "        toks = [self.stoi[x] for x in string]\n",
    "        while len(toks) >= 2: # avoid error when only 1 token is passed\n",
    "            pair_counts = get_pair_counts(toks)\n",
    "            pair = min(pair_counts, key=lambda p: self.merges.get(p, float(\"inf\")))\n",
    "            if pair not in self.merges:\n",
    "                break # no more possible merges\n",
    "\n",
    "            new_token = self.merges[pair]\n",
    "            toks = replace_pair(toks, pair, new_token)\n",
    "        return toks\n",
    "\n",
    "    def train(self, text, desired_vocab_size):\n",
    "        unique_chars = sorted(list(set(text)))\n",
    "        self.current_vocab_size = len(unique_chars)\n",
    "\n",
    "        self.stoi = { ch:i for i,ch in enumerate(unique_chars) }\n",
    "        self.vocab = { i:ch for i,ch in enumerate(unique_chars) }\n",
    "\n",
    "        tokens = [self.stoi[x] for x in list(text)]\n",
    "\n",
    "        num_merges = desired_vocab_size - current_vocab_size\n",
    "        ids = list(tokens)\n",
    "\n",
    "        for i in tqdm(range(num_merges), desc=\"Merges: \", leave=False):\n",
    "            pair_counts = get_pair_counts(ids)\n",
    "            max_occuring_pair = max(pair_counts, key=pair_counts.get)\n",
    "\n",
    "            if pair_counts[max_occuring_pair] == 1:\n",
    "                print(\"Max pair only occurs once, breaking from loop\")\n",
    "                break\n",
    "\n",
    "            new_token_code = current_vocab_size + i\n",
    "            ids = replace_pair(ids, max_occuring_pair, new_token_code)\n",
    "            self.merges[max_occuring_pair] = new_token_code\n",
    "\n",
    "        for (p0, p1), idx in merges.items(): # ordered dictionaries baby (ly python >= 3.8)\n",
    "            self.vocab[idx] = self.vocab[p0] + self.vocab[p1]"
   ]
  },
  {
   "cell_type": "code",
   "execution_count": 10,
   "metadata": {
    "id": "7EW8vmMFo5MZ"
   },
   "outputs": [],
   "source": [
    "bpe = BPETokeniser()"
   ]
  },
  {
   "cell_type": "code",
   "execution_count": null,
   "metadata": {
    "colab": {
     "base_uri": "https://localhost:8080/",
     "height": 17,
     "referenced_widgets": [
      "d554266c43134761994a75b70a126f42",
      "69248ae5933b425d8abecb1f323bded9",
      "724bcde6e8a04f58ae053e5c55ab9343",
      "0aa18437c75346b6bded0a2dc93099dc",
      "89a96095ed6d4b5fab5f1189eab6c350",
      "f7f97c7101df44cdada5c0c725456ef2",
      "0df05906dc724f7bb22b6c10058e28cc",
      "9f7f94bcae8642eeaa5cf8fc2fa4859c",
      "bb8304b1697141459b217b73a5b30d0c",
      "0d82e03a240442a794e4067d4da0b480",
      "e50403dd8b754bc784c8b5ddd1edbf25"
     ]
    },
    "id": "dujuW0RapBfb",
    "outputId": "828d1c74-9d8b-4ee8-ad0b-2b305503bb16"
   },
   "outputs": [
    {
     "data": {
      "application/vnd.jupyter.widget-view+json": {
       "model_id": "234241a87cb7497a9849fd9b57cad71b",
       "version_major": 2,
       "version_minor": 0
      },
      "text/plain": [
       "Merges:   0%|          | 0/211 [00:00<?, ?it/s]"
      ]
     },
     "metadata": {},
     "output_type": "display_data"
    }
   ],
   "source": [
    "bpe.train(text, desired_vocab_size=276)"
   ]
  },
  {
   "cell_type": "code",
   "execution_count": null,
   "metadata": {
    "id": "QWRH9h-ip3pw"
   },
   "outputs": [],
   "source": []
  }
 ],
 "metadata": {
  "colab": {
   "authorship_tag": "ABX9TyNFerGuSifigwSy1RwyGDDx",
   "include_colab_link": true,
   "provenance": []
  },
  "kernelspec": {
   "display_name": "Python 3 (ipykernel)",
   "language": "python",
   "name": "python3"
  },
  "language_info": {
   "codemirror_mode": {
    "name": "ipython",
    "version": 3
   },
   "file_extension": ".py",
   "mimetype": "text/x-python",
   "name": "python",
   "nbconvert_exporter": "python",
   "pygments_lexer": "ipython3",
   "version": "3.10.12"
  },
  "widgets": {
   "application/vnd.jupyter.widget-state+json": {
    "079afcb7f6504d73bd50b980d4416f09": {
     "model_module": "@jupyter-widgets/controls",
     "model_module_version": "1.5.0",
     "model_name": "FloatProgressModel",
     "state": {
      "_dom_classes": [],
      "_model_module": "@jupyter-widgets/controls",
      "_model_module_version": "1.5.0",
      "_model_name": "FloatProgressModel",
      "_view_count": null,
      "_view_module": "@jupyter-widgets/controls",
      "_view_module_version": "1.5.0",
      "_view_name": "ProgressView",
      "bar_style": "",
      "description": "",
      "description_tooltip": null,
      "layout": "IPY_MODEL_dd0930cfa62a4d05b17e574da7859dbd",
      "max": 211,
      "min": 0,
      "orientation": "horizontal",
      "style": "IPY_MODEL_2bf0ea40066343e7841883d8481dd294",
      "value": 211
     }
    },
    "0aa18437c75346b6bded0a2dc93099dc": {
     "model_module": "@jupyter-widgets/controls",
     "model_module_version": "1.5.0",
     "model_name": "HTMLModel",
     "state": {
      "_dom_classes": [],
      "_model_module": "@jupyter-widgets/controls",
      "_model_module_version": "1.5.0",
      "_model_name": "HTMLModel",
      "_view_count": null,
      "_view_module": "@jupyter-widgets/controls",
      "_view_module_version": "1.5.0",
      "_view_name": "HTMLView",
      "description": "",
      "description_tooltip": null,
      "layout": "IPY_MODEL_0d82e03a240442a794e4067d4da0b480",
      "placeholder": "​",
      "style": "IPY_MODEL_e50403dd8b754bc784c8b5ddd1edbf25",
      "value": " 211/211 [01:51&lt;00:00,  2.31it/s]"
     }
    },
    "0d82e03a240442a794e4067d4da0b480": {
     "model_module": "@jupyter-widgets/base",
     "model_module_version": "1.2.0",
     "model_name": "LayoutModel",
     "state": {
      "_model_module": "@jupyter-widgets/base",
      "_model_module_version": "1.2.0",
      "_model_name": "LayoutModel",
      "_view_count": null,
      "_view_module": "@jupyter-widgets/base",
      "_view_module_version": "1.2.0",
      "_view_name": "LayoutView",
      "align_content": null,
      "align_items": null,
      "align_self": null,
      "border": null,
      "bottom": null,
      "display": null,
      "flex": null,
      "flex_flow": null,
      "grid_area": null,
      "grid_auto_columns": null,
      "grid_auto_flow": null,
      "grid_auto_rows": null,
      "grid_column": null,
      "grid_gap": null,
      "grid_row": null,
      "grid_template_areas": null,
      "grid_template_columns": null,
      "grid_template_rows": null,
      "height": null,
      "justify_content": null,
      "justify_items": null,
      "left": null,
      "margin": null,
      "max_height": null,
      "max_width": null,
      "min_height": null,
      "min_width": null,
      "object_fit": null,
      "object_position": null,
      "order": null,
      "overflow": null,
      "overflow_x": null,
      "overflow_y": null,
      "padding": null,
      "right": null,
      "top": null,
      "visibility": null,
      "width": null
     }
    },
    "0df05906dc724f7bb22b6c10058e28cc": {
     "model_module": "@jupyter-widgets/controls",
     "model_module_version": "1.5.0",
     "model_name": "DescriptionStyleModel",
     "state": {
      "_model_module": "@jupyter-widgets/controls",
      "_model_module_version": "1.5.0",
      "_model_name": "DescriptionStyleModel",
      "_view_count": null,
      "_view_module": "@jupyter-widgets/base",
      "_view_module_version": "1.2.0",
      "_view_name": "StyleView",
      "description_width": ""
     }
    },
    "10de8c608b6b4b9891eeff42eb1ea96b": {
     "model_module": "@jupyter-widgets/controls",
     "model_module_version": "1.5.0",
     "model_name": "DescriptionStyleModel",
     "state": {
      "_model_module": "@jupyter-widgets/controls",
      "_model_module_version": "1.5.0",
      "_model_name": "DescriptionStyleModel",
      "_view_count": null,
      "_view_module": "@jupyter-widgets/base",
      "_view_module_version": "1.2.0",
      "_view_name": "StyleView",
      "description_width": ""
     }
    },
    "2a1589b745c24c5e9d71dfb6baacb666": {
     "model_module": "@jupyter-widgets/controls",
     "model_module_version": "1.5.0",
     "model_name": "HTMLModel",
     "state": {
      "_dom_classes": [],
      "_model_module": "@jupyter-widgets/controls",
      "_model_module_version": "1.5.0",
      "_model_name": "HTMLModel",
      "_view_count": null,
      "_view_module": "@jupyter-widgets/controls",
      "_view_module_version": "1.5.0",
      "_view_name": "HTMLView",
      "description": "",
      "description_tooltip": null,
      "layout": "IPY_MODEL_fff32d7f20544f81b82783174d267233",
      "placeholder": "​",
      "style": "IPY_MODEL_10de8c608b6b4b9891eeff42eb1ea96b",
      "value": "Merges: 100%"
     }
    },
    "2bf0ea40066343e7841883d8481dd294": {
     "model_module": "@jupyter-widgets/controls",
     "model_module_version": "1.5.0",
     "model_name": "ProgressStyleModel",
     "state": {
      "_model_module": "@jupyter-widgets/controls",
      "_model_module_version": "1.5.0",
      "_model_name": "ProgressStyleModel",
      "_view_count": null,
      "_view_module": "@jupyter-widgets/base",
      "_view_module_version": "1.2.0",
      "_view_name": "StyleView",
      "bar_color": null,
      "description_width": ""
     }
    },
    "358d314789f543e48848af01bbfcc39c": {
     "model_module": "@jupyter-widgets/base",
     "model_module_version": "1.2.0",
     "model_name": "LayoutModel",
     "state": {
      "_model_module": "@jupyter-widgets/base",
      "_model_module_version": "1.2.0",
      "_model_name": "LayoutModel",
      "_view_count": null,
      "_view_module": "@jupyter-widgets/base",
      "_view_module_version": "1.2.0",
      "_view_name": "LayoutView",
      "align_content": null,
      "align_items": null,
      "align_self": null,
      "border": null,
      "bottom": null,
      "display": null,
      "flex": null,
      "flex_flow": null,
      "grid_area": null,
      "grid_auto_columns": null,
      "grid_auto_flow": null,
      "grid_auto_rows": null,
      "grid_column": null,
      "grid_gap": null,
      "grid_row": null,
      "grid_template_areas": null,
      "grid_template_columns": null,
      "grid_template_rows": null,
      "height": null,
      "justify_content": null,
      "justify_items": null,
      "left": null,
      "margin": null,
      "max_height": null,
      "max_width": null,
      "min_height": null,
      "min_width": null,
      "object_fit": null,
      "object_position": null,
      "order": null,
      "overflow": null,
      "overflow_x": null,
      "overflow_y": null,
      "padding": null,
      "right": null,
      "top": null,
      "visibility": null,
      "width": null
     }
    },
    "5d13669947044fee8525ff4729c29e1b": {
     "model_module": "@jupyter-widgets/controls",
     "model_module_version": "1.5.0",
     "model_name": "HTMLModel",
     "state": {
      "_dom_classes": [],
      "_model_module": "@jupyter-widgets/controls",
      "_model_module_version": "1.5.0",
      "_model_name": "HTMLModel",
      "_view_count": null,
      "_view_module": "@jupyter-widgets/controls",
      "_view_module_version": "1.5.0",
      "_view_name": "HTMLView",
      "description": "",
      "description_tooltip": null,
      "layout": "IPY_MODEL_358d314789f543e48848af01bbfcc39c",
      "placeholder": "​",
      "style": "IPY_MODEL_625ec8be45b247e198fedb29c92cb4aa",
      "value": " 211/211 [01:50&lt;00:00,  2.49it/s]"
     }
    },
    "625ec8be45b247e198fedb29c92cb4aa": {
     "model_module": "@jupyter-widgets/controls",
     "model_module_version": "1.5.0",
     "model_name": "DescriptionStyleModel",
     "state": {
      "_model_module": "@jupyter-widgets/controls",
      "_model_module_version": "1.5.0",
      "_model_name": "DescriptionStyleModel",
      "_view_count": null,
      "_view_module": "@jupyter-widgets/base",
      "_view_module_version": "1.2.0",
      "_view_name": "StyleView",
      "description_width": ""
     }
    },
    "69248ae5933b425d8abecb1f323bded9": {
     "model_module": "@jupyter-widgets/controls",
     "model_module_version": "1.5.0",
     "model_name": "HTMLModel",
     "state": {
      "_dom_classes": [],
      "_model_module": "@jupyter-widgets/controls",
      "_model_module_version": "1.5.0",
      "_model_name": "HTMLModel",
      "_view_count": null,
      "_view_module": "@jupyter-widgets/controls",
      "_view_module_version": "1.5.0",
      "_view_name": "HTMLView",
      "description": "",
      "description_tooltip": null,
      "layout": "IPY_MODEL_f7f97c7101df44cdada5c0c725456ef2",
      "placeholder": "​",
      "style": "IPY_MODEL_0df05906dc724f7bb22b6c10058e28cc",
      "value": "Merges: 100%"
     }
    },
    "724bcde6e8a04f58ae053e5c55ab9343": {
     "model_module": "@jupyter-widgets/controls",
     "model_module_version": "1.5.0",
     "model_name": "FloatProgressModel",
     "state": {
      "_dom_classes": [],
      "_model_module": "@jupyter-widgets/controls",
      "_model_module_version": "1.5.0",
      "_model_name": "FloatProgressModel",
      "_view_count": null,
      "_view_module": "@jupyter-widgets/controls",
      "_view_module_version": "1.5.0",
      "_view_name": "ProgressView",
      "bar_style": "",
      "description": "",
      "description_tooltip": null,
      "layout": "IPY_MODEL_9f7f94bcae8642eeaa5cf8fc2fa4859c",
      "max": 211,
      "min": 0,
      "orientation": "horizontal",
      "style": "IPY_MODEL_bb8304b1697141459b217b73a5b30d0c",
      "value": 211
     }
    },
    "89a96095ed6d4b5fab5f1189eab6c350": {
     "model_module": "@jupyter-widgets/base",
     "model_module_version": "1.2.0",
     "model_name": "LayoutModel",
     "state": {
      "_model_module": "@jupyter-widgets/base",
      "_model_module_version": "1.2.0",
      "_model_name": "LayoutModel",
      "_view_count": null,
      "_view_module": "@jupyter-widgets/base",
      "_view_module_version": "1.2.0",
      "_view_name": "LayoutView",
      "align_content": null,
      "align_items": null,
      "align_self": null,
      "border": null,
      "bottom": null,
      "display": null,
      "flex": null,
      "flex_flow": null,
      "grid_area": null,
      "grid_auto_columns": null,
      "grid_auto_flow": null,
      "grid_auto_rows": null,
      "grid_column": null,
      "grid_gap": null,
      "grid_row": null,
      "grid_template_areas": null,
      "grid_template_columns": null,
      "grid_template_rows": null,
      "height": null,
      "justify_content": null,
      "justify_items": null,
      "left": null,
      "margin": null,
      "max_height": null,
      "max_width": null,
      "min_height": null,
      "min_width": null,
      "object_fit": null,
      "object_position": null,
      "order": null,
      "overflow": null,
      "overflow_x": null,
      "overflow_y": null,
      "padding": null,
      "right": null,
      "top": null,
      "visibility": "hidden",
      "width": null
     }
    },
    "9f7f94bcae8642eeaa5cf8fc2fa4859c": {
     "model_module": "@jupyter-widgets/base",
     "model_module_version": "1.2.0",
     "model_name": "LayoutModel",
     "state": {
      "_model_module": "@jupyter-widgets/base",
      "_model_module_version": "1.2.0",
      "_model_name": "LayoutModel",
      "_view_count": null,
      "_view_module": "@jupyter-widgets/base",
      "_view_module_version": "1.2.0",
      "_view_name": "LayoutView",
      "align_content": null,
      "align_items": null,
      "align_self": null,
      "border": null,
      "bottom": null,
      "display": null,
      "flex": null,
      "flex_flow": null,
      "grid_area": null,
      "grid_auto_columns": null,
      "grid_auto_flow": null,
      "grid_auto_rows": null,
      "grid_column": null,
      "grid_gap": null,
      "grid_row": null,
      "grid_template_areas": null,
      "grid_template_columns": null,
      "grid_template_rows": null,
      "height": null,
      "justify_content": null,
      "justify_items": null,
      "left": null,
      "margin": null,
      "max_height": null,
      "max_width": null,
      "min_height": null,
      "min_width": null,
      "object_fit": null,
      "object_position": null,
      "order": null,
      "overflow": null,
      "overflow_x": null,
      "overflow_y": null,
      "padding": null,
      "right": null,
      "top": null,
      "visibility": null,
      "width": null
     }
    },
    "af4ab1812ecf4266a3bf5c4b12254e6b": {
     "model_module": "@jupyter-widgets/controls",
     "model_module_version": "1.5.0",
     "model_name": "HBoxModel",
     "state": {
      "_dom_classes": [],
      "_model_module": "@jupyter-widgets/controls",
      "_model_module_version": "1.5.0",
      "_model_name": "HBoxModel",
      "_view_count": null,
      "_view_module": "@jupyter-widgets/controls",
      "_view_module_version": "1.5.0",
      "_view_name": "HBoxView",
      "box_style": "",
      "children": [
       "IPY_MODEL_2a1589b745c24c5e9d71dfb6baacb666",
       "IPY_MODEL_079afcb7f6504d73bd50b980d4416f09",
       "IPY_MODEL_5d13669947044fee8525ff4729c29e1b"
      ],
      "layout": "IPY_MODEL_c37ace5d97354cd798571c1f0f650f20"
     }
    },
    "bb8304b1697141459b217b73a5b30d0c": {
     "model_module": "@jupyter-widgets/controls",
     "model_module_version": "1.5.0",
     "model_name": "ProgressStyleModel",
     "state": {
      "_model_module": "@jupyter-widgets/controls",
      "_model_module_version": "1.5.0",
      "_model_name": "ProgressStyleModel",
      "_view_count": null,
      "_view_module": "@jupyter-widgets/base",
      "_view_module_version": "1.2.0",
      "_view_name": "StyleView",
      "bar_color": null,
      "description_width": ""
     }
    },
    "c37ace5d97354cd798571c1f0f650f20": {
     "model_module": "@jupyter-widgets/base",
     "model_module_version": "1.2.0",
     "model_name": "LayoutModel",
     "state": {
      "_model_module": "@jupyter-widgets/base",
      "_model_module_version": "1.2.0",
      "_model_name": "LayoutModel",
      "_view_count": null,
      "_view_module": "@jupyter-widgets/base",
      "_view_module_version": "1.2.0",
      "_view_name": "LayoutView",
      "align_content": null,
      "align_items": null,
      "align_self": null,
      "border": null,
      "bottom": null,
      "display": null,
      "flex": null,
      "flex_flow": null,
      "grid_area": null,
      "grid_auto_columns": null,
      "grid_auto_flow": null,
      "grid_auto_rows": null,
      "grid_column": null,
      "grid_gap": null,
      "grid_row": null,
      "grid_template_areas": null,
      "grid_template_columns": null,
      "grid_template_rows": null,
      "height": null,
      "justify_content": null,
      "justify_items": null,
      "left": null,
      "margin": null,
      "max_height": null,
      "max_width": null,
      "min_height": null,
      "min_width": null,
      "object_fit": null,
      "object_position": null,
      "order": null,
      "overflow": null,
      "overflow_x": null,
      "overflow_y": null,
      "padding": null,
      "right": null,
      "top": null,
      "visibility": "hidden",
      "width": null
     }
    },
    "d554266c43134761994a75b70a126f42": {
     "model_module": "@jupyter-widgets/controls",
     "model_module_version": "1.5.0",
     "model_name": "HBoxModel",
     "state": {
      "_dom_classes": [],
      "_model_module": "@jupyter-widgets/controls",
      "_model_module_version": "1.5.0",
      "_model_name": "HBoxModel",
      "_view_count": null,
      "_view_module": "@jupyter-widgets/controls",
      "_view_module_version": "1.5.0",
      "_view_name": "HBoxView",
      "box_style": "",
      "children": [
       "IPY_MODEL_69248ae5933b425d8abecb1f323bded9",
       "IPY_MODEL_724bcde6e8a04f58ae053e5c55ab9343",
       "IPY_MODEL_0aa18437c75346b6bded0a2dc93099dc"
      ],
      "layout": "IPY_MODEL_89a96095ed6d4b5fab5f1189eab6c350"
     }
    },
    "dd0930cfa62a4d05b17e574da7859dbd": {
     "model_module": "@jupyter-widgets/base",
     "model_module_version": "1.2.0",
     "model_name": "LayoutModel",
     "state": {
      "_model_module": "@jupyter-widgets/base",
      "_model_module_version": "1.2.0",
      "_model_name": "LayoutModel",
      "_view_count": null,
      "_view_module": "@jupyter-widgets/base",
      "_view_module_version": "1.2.0",
      "_view_name": "LayoutView",
      "align_content": null,
      "align_items": null,
      "align_self": null,
      "border": null,
      "bottom": null,
      "display": null,
      "flex": null,
      "flex_flow": null,
      "grid_area": null,
      "grid_auto_columns": null,
      "grid_auto_flow": null,
      "grid_auto_rows": null,
      "grid_column": null,
      "grid_gap": null,
      "grid_row": null,
      "grid_template_areas": null,
      "grid_template_columns": null,
      "grid_template_rows": null,
      "height": null,
      "justify_content": null,
      "justify_items": null,
      "left": null,
      "margin": null,
      "max_height": null,
      "max_width": null,
      "min_height": null,
      "min_width": null,
      "object_fit": null,
      "object_position": null,
      "order": null,
      "overflow": null,
      "overflow_x": null,
      "overflow_y": null,
      "padding": null,
      "right": null,
      "top": null,
      "visibility": null,
      "width": null
     }
    },
    "e50403dd8b754bc784c8b5ddd1edbf25": {
     "model_module": "@jupyter-widgets/controls",
     "model_module_version": "1.5.0",
     "model_name": "DescriptionStyleModel",
     "state": {
      "_model_module": "@jupyter-widgets/controls",
      "_model_module_version": "1.5.0",
      "_model_name": "DescriptionStyleModel",
      "_view_count": null,
      "_view_module": "@jupyter-widgets/base",
      "_view_module_version": "1.2.0",
      "_view_name": "StyleView",
      "description_width": ""
     }
    },
    "f7f97c7101df44cdada5c0c725456ef2": {
     "model_module": "@jupyter-widgets/base",
     "model_module_version": "1.2.0",
     "model_name": "LayoutModel",
     "state": {
      "_model_module": "@jupyter-widgets/base",
      "_model_module_version": "1.2.0",
      "_model_name": "LayoutModel",
      "_view_count": null,
      "_view_module": "@jupyter-widgets/base",
      "_view_module_version": "1.2.0",
      "_view_name": "LayoutView",
      "align_content": null,
      "align_items": null,
      "align_self": null,
      "border": null,
      "bottom": null,
      "display": null,
      "flex": null,
      "flex_flow": null,
      "grid_area": null,
      "grid_auto_columns": null,
      "grid_auto_flow": null,
      "grid_auto_rows": null,
      "grid_column": null,
      "grid_gap": null,
      "grid_row": null,
      "grid_template_areas": null,
      "grid_template_columns": null,
      "grid_template_rows": null,
      "height": null,
      "justify_content": null,
      "justify_items": null,
      "left": null,
      "margin": null,
      "max_height": null,
      "max_width": null,
      "min_height": null,
      "min_width": null,
      "object_fit": null,
      "object_position": null,
      "order": null,
      "overflow": null,
      "overflow_x": null,
      "overflow_y": null,
      "padding": null,
      "right": null,
      "top": null,
      "visibility": null,
      "width": null
     }
    },
    "fff32d7f20544f81b82783174d267233": {
     "model_module": "@jupyter-widgets/base",
     "model_module_version": "1.2.0",
     "model_name": "LayoutModel",
     "state": {
      "_model_module": "@jupyter-widgets/base",
      "_model_module_version": "1.2.0",
      "_model_name": "LayoutModel",
      "_view_count": null,
      "_view_module": "@jupyter-widgets/base",
      "_view_module_version": "1.2.0",
      "_view_name": "LayoutView",
      "align_content": null,
      "align_items": null,
      "align_self": null,
      "border": null,
      "bottom": null,
      "display": null,
      "flex": null,
      "flex_flow": null,
      "grid_area": null,
      "grid_auto_columns": null,
      "grid_auto_flow": null,
      "grid_auto_rows": null,
      "grid_column": null,
      "grid_gap": null,
      "grid_row": null,
      "grid_template_areas": null,
      "grid_template_columns": null,
      "grid_template_rows": null,
      "height": null,
      "justify_content": null,
      "justify_items": null,
      "left": null,
      "margin": null,
      "max_height": null,
      "max_width": null,
      "min_height": null,
      "min_width": null,
      "object_fit": null,
      "object_position": null,
      "order": null,
      "overflow": null,
      "overflow_x": null,
      "overflow_y": null,
      "padding": null,
      "right": null,
      "top": null,
      "visibility": null,
      "width": null
     }
    }
   }
  }
 },
 "nbformat": 4,
 "nbformat_minor": 4
}
