{
  "nbformat": 4,
  "nbformat_minor": 0,
  "metadata": {
    "colab": {
      "provenance": [],
      "authorship_tag": "ABX9TyNFerGuSifigwSy1RwyGDDx",
      "include_colab_link": true
    },
    "kernelspec": {
      "name": "python3",
      "display_name": "Python 3"
    },
    "language_info": {
      "name": "python"
    },
    "widgets": {
      "application/vnd.jupyter.widget-state+json": {
        "af4ab1812ecf4266a3bf5c4b12254e6b": {
          "model_module": "@jupyter-widgets/controls",
          "model_name": "HBoxModel",
          "model_module_version": "1.5.0",
          "state": {
            "_dom_classes": [],
            "_model_module": "@jupyter-widgets/controls",
            "_model_module_version": "1.5.0",
            "_model_name": "HBoxModel",
            "_view_count": null,
            "_view_module": "@jupyter-widgets/controls",
            "_view_module_version": "1.5.0",
            "_view_name": "HBoxView",
            "box_style": "",
            "children": [
              "IPY_MODEL_2a1589b745c24c5e9d71dfb6baacb666",
              "IPY_MODEL_079afcb7f6504d73bd50b980d4416f09",
              "IPY_MODEL_5d13669947044fee8525ff4729c29e1b"
            ],
            "layout": "IPY_MODEL_c37ace5d97354cd798571c1f0f650f20"
          }
        },
        "2a1589b745c24c5e9d71dfb6baacb666": {
          "model_module": "@jupyter-widgets/controls",
          "model_name": "HTMLModel",
          "model_module_version": "1.5.0",
          "state": {
            "_dom_classes": [],
            "_model_module": "@jupyter-widgets/controls",
            "_model_module_version": "1.5.0",
            "_model_name": "HTMLModel",
            "_view_count": null,
            "_view_module": "@jupyter-widgets/controls",
            "_view_module_version": "1.5.0",
            "_view_name": "HTMLView",
            "description": "",
            "description_tooltip": null,
            "layout": "IPY_MODEL_fff32d7f20544f81b82783174d267233",
            "placeholder": "​",
            "style": "IPY_MODEL_10de8c608b6b4b9891eeff42eb1ea96b",
            "value": "Merges: 100%"
          }
        },
        "079afcb7f6504d73bd50b980d4416f09": {
          "model_module": "@jupyter-widgets/controls",
          "model_name": "FloatProgressModel",
          "model_module_version": "1.5.0",
          "state": {
            "_dom_classes": [],
            "_model_module": "@jupyter-widgets/controls",
            "_model_module_version": "1.5.0",
            "_model_name": "FloatProgressModel",
            "_view_count": null,
            "_view_module": "@jupyter-widgets/controls",
            "_view_module_version": "1.5.0",
            "_view_name": "ProgressView",
            "bar_style": "",
            "description": "",
            "description_tooltip": null,
            "layout": "IPY_MODEL_dd0930cfa62a4d05b17e574da7859dbd",
            "max": 211,
            "min": 0,
            "orientation": "horizontal",
            "style": "IPY_MODEL_2bf0ea40066343e7841883d8481dd294",
            "value": 211
          }
        },
        "5d13669947044fee8525ff4729c29e1b": {
          "model_module": "@jupyter-widgets/controls",
          "model_name": "HTMLModel",
          "model_module_version": "1.5.0",
          "state": {
            "_dom_classes": [],
            "_model_module": "@jupyter-widgets/controls",
            "_model_module_version": "1.5.0",
            "_model_name": "HTMLModel",
            "_view_count": null,
            "_view_module": "@jupyter-widgets/controls",
            "_view_module_version": "1.5.0",
            "_view_name": "HTMLView",
            "description": "",
            "description_tooltip": null,
            "layout": "IPY_MODEL_358d314789f543e48848af01bbfcc39c",
            "placeholder": "​",
            "style": "IPY_MODEL_625ec8be45b247e198fedb29c92cb4aa",
            "value": " 211/211 [01:50&lt;00:00,  2.49it/s]"
          }
        },
        "c37ace5d97354cd798571c1f0f650f20": {
          "model_module": "@jupyter-widgets/base",
          "model_name": "LayoutModel",
          "model_module_version": "1.2.0",
          "state": {
            "_model_module": "@jupyter-widgets/base",
            "_model_module_version": "1.2.0",
            "_model_name": "LayoutModel",
            "_view_count": null,
            "_view_module": "@jupyter-widgets/base",
            "_view_module_version": "1.2.0",
            "_view_name": "LayoutView",
            "align_content": null,
            "align_items": null,
            "align_self": null,
            "border": null,
            "bottom": null,
            "display": null,
            "flex": null,
            "flex_flow": null,
            "grid_area": null,
            "grid_auto_columns": null,
            "grid_auto_flow": null,
            "grid_auto_rows": null,
            "grid_column": null,
            "grid_gap": null,
            "grid_row": null,
            "grid_template_areas": null,
            "grid_template_columns": null,
            "grid_template_rows": null,
            "height": null,
            "justify_content": null,
            "justify_items": null,
            "left": null,
            "margin": null,
            "max_height": null,
            "max_width": null,
            "min_height": null,
            "min_width": null,
            "object_fit": null,
            "object_position": null,
            "order": null,
            "overflow": null,
            "overflow_x": null,
            "overflow_y": null,
            "padding": null,
            "right": null,
            "top": null,
            "visibility": "hidden",
            "width": null
          }
        },
        "fff32d7f20544f81b82783174d267233": {
          "model_module": "@jupyter-widgets/base",
          "model_name": "LayoutModel",
          "model_module_version": "1.2.0",
          "state": {
            "_model_module": "@jupyter-widgets/base",
            "_model_module_version": "1.2.0",
            "_model_name": "LayoutModel",
            "_view_count": null,
            "_view_module": "@jupyter-widgets/base",
            "_view_module_version": "1.2.0",
            "_view_name": "LayoutView",
            "align_content": null,
            "align_items": null,
            "align_self": null,
            "border": null,
            "bottom": null,
            "display": null,
            "flex": null,
            "flex_flow": null,
            "grid_area": null,
            "grid_auto_columns": null,
            "grid_auto_flow": null,
            "grid_auto_rows": null,
            "grid_column": null,
            "grid_gap": null,
            "grid_row": null,
            "grid_template_areas": null,
            "grid_template_columns": null,
            "grid_template_rows": null,
            "height": null,
            "justify_content": null,
            "justify_items": null,
            "left": null,
            "margin": null,
            "max_height": null,
            "max_width": null,
            "min_height": null,
            "min_width": null,
            "object_fit": null,
            "object_position": null,
            "order": null,
            "overflow": null,
            "overflow_x": null,
            "overflow_y": null,
            "padding": null,
            "right": null,
            "top": null,
            "visibility": null,
            "width": null
          }
        },
        "10de8c608b6b4b9891eeff42eb1ea96b": {
          "model_module": "@jupyter-widgets/controls",
          "model_name": "DescriptionStyleModel",
          "model_module_version": "1.5.0",
          "state": {
            "_model_module": "@jupyter-widgets/controls",
            "_model_module_version": "1.5.0",
            "_model_name": "DescriptionStyleModel",
            "_view_count": null,
            "_view_module": "@jupyter-widgets/base",
            "_view_module_version": "1.2.0",
            "_view_name": "StyleView",
            "description_width": ""
          }
        },
        "dd0930cfa62a4d05b17e574da7859dbd": {
          "model_module": "@jupyter-widgets/base",
          "model_name": "LayoutModel",
          "model_module_version": "1.2.0",
          "state": {
            "_model_module": "@jupyter-widgets/base",
            "_model_module_version": "1.2.0",
            "_model_name": "LayoutModel",
            "_view_count": null,
            "_view_module": "@jupyter-widgets/base",
            "_view_module_version": "1.2.0",
            "_view_name": "LayoutView",
            "align_content": null,
            "align_items": null,
            "align_self": null,
            "border": null,
            "bottom": null,
            "display": null,
            "flex": null,
            "flex_flow": null,
            "grid_area": null,
            "grid_auto_columns": null,
            "grid_auto_flow": null,
            "grid_auto_rows": null,
            "grid_column": null,
            "grid_gap": null,
            "grid_row": null,
            "grid_template_areas": null,
            "grid_template_columns": null,
            "grid_template_rows": null,
            "height": null,
            "justify_content": null,
            "justify_items": null,
            "left": null,
            "margin": null,
            "max_height": null,
            "max_width": null,
            "min_height": null,
            "min_width": null,
            "object_fit": null,
            "object_position": null,
            "order": null,
            "overflow": null,
            "overflow_x": null,
            "overflow_y": null,
            "padding": null,
            "right": null,
            "top": null,
            "visibility": null,
            "width": null
          }
        },
        "2bf0ea40066343e7841883d8481dd294": {
          "model_module": "@jupyter-widgets/controls",
          "model_name": "ProgressStyleModel",
          "model_module_version": "1.5.0",
          "state": {
            "_model_module": "@jupyter-widgets/controls",
            "_model_module_version": "1.5.0",
            "_model_name": "ProgressStyleModel",
            "_view_count": null,
            "_view_module": "@jupyter-widgets/base",
            "_view_module_version": "1.2.0",
            "_view_name": "StyleView",
            "bar_color": null,
            "description_width": ""
          }
        },
        "358d314789f543e48848af01bbfcc39c": {
          "model_module": "@jupyter-widgets/base",
          "model_name": "LayoutModel",
          "model_module_version": "1.2.0",
          "state": {
            "_model_module": "@jupyter-widgets/base",
            "_model_module_version": "1.2.0",
            "_model_name": "LayoutModel",
            "_view_count": null,
            "_view_module": "@jupyter-widgets/base",
            "_view_module_version": "1.2.0",
            "_view_name": "LayoutView",
            "align_content": null,
            "align_items": null,
            "align_self": null,
            "border": null,
            "bottom": null,
            "display": null,
            "flex": null,
            "flex_flow": null,
            "grid_area": null,
            "grid_auto_columns": null,
            "grid_auto_flow": null,
            "grid_auto_rows": null,
            "grid_column": null,
            "grid_gap": null,
            "grid_row": null,
            "grid_template_areas": null,
            "grid_template_columns": null,
            "grid_template_rows": null,
            "height": null,
            "justify_content": null,
            "justify_items": null,
            "left": null,
            "margin": null,
            "max_height": null,
            "max_width": null,
            "min_height": null,
            "min_width": null,
            "object_fit": null,
            "object_position": null,
            "order": null,
            "overflow": null,
            "overflow_x": null,
            "overflow_y": null,
            "padding": null,
            "right": null,
            "top": null,
            "visibility": null,
            "width": null
          }
        },
        "625ec8be45b247e198fedb29c92cb4aa": {
          "model_module": "@jupyter-widgets/controls",
          "model_name": "DescriptionStyleModel",
          "model_module_version": "1.5.0",
          "state": {
            "_model_module": "@jupyter-widgets/controls",
            "_model_module_version": "1.5.0",
            "_model_name": "DescriptionStyleModel",
            "_view_count": null,
            "_view_module": "@jupyter-widgets/base",
            "_view_module_version": "1.2.0",
            "_view_name": "StyleView",
            "description_width": ""
          }
        },
        "d554266c43134761994a75b70a126f42": {
          "model_module": "@jupyter-widgets/controls",
          "model_name": "HBoxModel",
          "model_module_version": "1.5.0",
          "state": {
            "_dom_classes": [],
            "_model_module": "@jupyter-widgets/controls",
            "_model_module_version": "1.5.0",
            "_model_name": "HBoxModel",
            "_view_count": null,
            "_view_module": "@jupyter-widgets/controls",
            "_view_module_version": "1.5.0",
            "_view_name": "HBoxView",
            "box_style": "",
            "children": [
              "IPY_MODEL_69248ae5933b425d8abecb1f323bded9",
              "IPY_MODEL_724bcde6e8a04f58ae053e5c55ab9343",
              "IPY_MODEL_0aa18437c75346b6bded0a2dc93099dc"
            ],
            "layout": "IPY_MODEL_89a96095ed6d4b5fab5f1189eab6c350"
          }
        },
        "69248ae5933b425d8abecb1f323bded9": {
          "model_module": "@jupyter-widgets/controls",
          "model_name": "HTMLModel",
          "model_module_version": "1.5.0",
          "state": {
            "_dom_classes": [],
            "_model_module": "@jupyter-widgets/controls",
            "_model_module_version": "1.5.0",
            "_model_name": "HTMLModel",
            "_view_count": null,
            "_view_module": "@jupyter-widgets/controls",
            "_view_module_version": "1.5.0",
            "_view_name": "HTMLView",
            "description": "",
            "description_tooltip": null,
            "layout": "IPY_MODEL_f7f97c7101df44cdada5c0c725456ef2",
            "placeholder": "​",
            "style": "IPY_MODEL_0df05906dc724f7bb22b6c10058e28cc",
            "value": "Merges: 100%"
          }
        },
        "724bcde6e8a04f58ae053e5c55ab9343": {
          "model_module": "@jupyter-widgets/controls",
          "model_name": "FloatProgressModel",
          "model_module_version": "1.5.0",
          "state": {
            "_dom_classes": [],
            "_model_module": "@jupyter-widgets/controls",
            "_model_module_version": "1.5.0",
            "_model_name": "FloatProgressModel",
            "_view_count": null,
            "_view_module": "@jupyter-widgets/controls",
            "_view_module_version": "1.5.0",
            "_view_name": "ProgressView",
            "bar_style": "",
            "description": "",
            "description_tooltip": null,
            "layout": "IPY_MODEL_9f7f94bcae8642eeaa5cf8fc2fa4859c",
            "max": 211,
            "min": 0,
            "orientation": "horizontal",
            "style": "IPY_MODEL_bb8304b1697141459b217b73a5b30d0c",
            "value": 211
          }
        },
        "0aa18437c75346b6bded0a2dc93099dc": {
          "model_module": "@jupyter-widgets/controls",
          "model_name": "HTMLModel",
          "model_module_version": "1.5.0",
          "state": {
            "_dom_classes": [],
            "_model_module": "@jupyter-widgets/controls",
            "_model_module_version": "1.5.0",
            "_model_name": "HTMLModel",
            "_view_count": null,
            "_view_module": "@jupyter-widgets/controls",
            "_view_module_version": "1.5.0",
            "_view_name": "HTMLView",
            "description": "",
            "description_tooltip": null,
            "layout": "IPY_MODEL_0d82e03a240442a794e4067d4da0b480",
            "placeholder": "​",
            "style": "IPY_MODEL_e50403dd8b754bc784c8b5ddd1edbf25",
            "value": " 211/211 [01:51&lt;00:00,  2.31it/s]"
          }
        },
        "89a96095ed6d4b5fab5f1189eab6c350": {
          "model_module": "@jupyter-widgets/base",
          "model_name": "LayoutModel",
          "model_module_version": "1.2.0",
          "state": {
            "_model_module": "@jupyter-widgets/base",
            "_model_module_version": "1.2.0",
            "_model_name": "LayoutModel",
            "_view_count": null,
            "_view_module": "@jupyter-widgets/base",
            "_view_module_version": "1.2.0",
            "_view_name": "LayoutView",
            "align_content": null,
            "align_items": null,
            "align_self": null,
            "border": null,
            "bottom": null,
            "display": null,
            "flex": null,
            "flex_flow": null,
            "grid_area": null,
            "grid_auto_columns": null,
            "grid_auto_flow": null,
            "grid_auto_rows": null,
            "grid_column": null,
            "grid_gap": null,
            "grid_row": null,
            "grid_template_areas": null,
            "grid_template_columns": null,
            "grid_template_rows": null,
            "height": null,
            "justify_content": null,
            "justify_items": null,
            "left": null,
            "margin": null,
            "max_height": null,
            "max_width": null,
            "min_height": null,
            "min_width": null,
            "object_fit": null,
            "object_position": null,
            "order": null,
            "overflow": null,
            "overflow_x": null,
            "overflow_y": null,
            "padding": null,
            "right": null,
            "top": null,
            "visibility": "hidden",
            "width": null
          }
        },
        "f7f97c7101df44cdada5c0c725456ef2": {
          "model_module": "@jupyter-widgets/base",
          "model_name": "LayoutModel",
          "model_module_version": "1.2.0",
          "state": {
            "_model_module": "@jupyter-widgets/base",
            "_model_module_version": "1.2.0",
            "_model_name": "LayoutModel",
            "_view_count": null,
            "_view_module": "@jupyter-widgets/base",
            "_view_module_version": "1.2.0",
            "_view_name": "LayoutView",
            "align_content": null,
            "align_items": null,
            "align_self": null,
            "border": null,
            "bottom": null,
            "display": null,
            "flex": null,
            "flex_flow": null,
            "grid_area": null,
            "grid_auto_columns": null,
            "grid_auto_flow": null,
            "grid_auto_rows": null,
            "grid_column": null,
            "grid_gap": null,
            "grid_row": null,
            "grid_template_areas": null,
            "grid_template_columns": null,
            "grid_template_rows": null,
            "height": null,
            "justify_content": null,
            "justify_items": null,
            "left": null,
            "margin": null,
            "max_height": null,
            "max_width": null,
            "min_height": null,
            "min_width": null,
            "object_fit": null,
            "object_position": null,
            "order": null,
            "overflow": null,
            "overflow_x": null,
            "overflow_y": null,
            "padding": null,
            "right": null,
            "top": null,
            "visibility": null,
            "width": null
          }
        },
        "0df05906dc724f7bb22b6c10058e28cc": {
          "model_module": "@jupyter-widgets/controls",
          "model_name": "DescriptionStyleModel",
          "model_module_version": "1.5.0",
          "state": {
            "_model_module": "@jupyter-widgets/controls",
            "_model_module_version": "1.5.0",
            "_model_name": "DescriptionStyleModel",
            "_view_count": null,
            "_view_module": "@jupyter-widgets/base",
            "_view_module_version": "1.2.0",
            "_view_name": "StyleView",
            "description_width": ""
          }
        },
        "9f7f94bcae8642eeaa5cf8fc2fa4859c": {
          "model_module": "@jupyter-widgets/base",
          "model_name": "LayoutModel",
          "model_module_version": "1.2.0",
          "state": {
            "_model_module": "@jupyter-widgets/base",
            "_model_module_version": "1.2.0",
            "_model_name": "LayoutModel",
            "_view_count": null,
            "_view_module": "@jupyter-widgets/base",
            "_view_module_version": "1.2.0",
            "_view_name": "LayoutView",
            "align_content": null,
            "align_items": null,
            "align_self": null,
            "border": null,
            "bottom": null,
            "display": null,
            "flex": null,
            "flex_flow": null,
            "grid_area": null,
            "grid_auto_columns": null,
            "grid_auto_flow": null,
            "grid_auto_rows": null,
            "grid_column": null,
            "grid_gap": null,
            "grid_row": null,
            "grid_template_areas": null,
            "grid_template_columns": null,
            "grid_template_rows": null,
            "height": null,
            "justify_content": null,
            "justify_items": null,
            "left": null,
            "margin": null,
            "max_height": null,
            "max_width": null,
            "min_height": null,
            "min_width": null,
            "object_fit": null,
            "object_position": null,
            "order": null,
            "overflow": null,
            "overflow_x": null,
            "overflow_y": null,
            "padding": null,
            "right": null,
            "top": null,
            "visibility": null,
            "width": null
          }
        },
        "bb8304b1697141459b217b73a5b30d0c": {
          "model_module": "@jupyter-widgets/controls",
          "model_name": "ProgressStyleModel",
          "model_module_version": "1.5.0",
          "state": {
            "_model_module": "@jupyter-widgets/controls",
            "_model_module_version": "1.5.0",
            "_model_name": "ProgressStyleModel",
            "_view_count": null,
            "_view_module": "@jupyter-widgets/base",
            "_view_module_version": "1.2.0",
            "_view_name": "StyleView",
            "bar_color": null,
            "description_width": ""
          }
        },
        "0d82e03a240442a794e4067d4da0b480": {
          "model_module": "@jupyter-widgets/base",
          "model_name": "LayoutModel",
          "model_module_version": "1.2.0",
          "state": {
            "_model_module": "@jupyter-widgets/base",
            "_model_module_version": "1.2.0",
            "_model_name": "LayoutModel",
            "_view_count": null,
            "_view_module": "@jupyter-widgets/base",
            "_view_module_version": "1.2.0",
            "_view_name": "LayoutView",
            "align_content": null,
            "align_items": null,
            "align_self": null,
            "border": null,
            "bottom": null,
            "display": null,
            "flex": null,
            "flex_flow": null,
            "grid_area": null,
            "grid_auto_columns": null,
            "grid_auto_flow": null,
            "grid_auto_rows": null,
            "grid_column": null,
            "grid_gap": null,
            "grid_row": null,
            "grid_template_areas": null,
            "grid_template_columns": null,
            "grid_template_rows": null,
            "height": null,
            "justify_content": null,
            "justify_items": null,
            "left": null,
            "margin": null,
            "max_height": null,
            "max_width": null,
            "min_height": null,
            "min_width": null,
            "object_fit": null,
            "object_position": null,
            "order": null,
            "overflow": null,
            "overflow_x": null,
            "overflow_y": null,
            "padding": null,
            "right": null,
            "top": null,
            "visibility": null,
            "width": null
          }
        },
        "e50403dd8b754bc784c8b5ddd1edbf25": {
          "model_module": "@jupyter-widgets/controls",
          "model_name": "DescriptionStyleModel",
          "model_module_version": "1.5.0",
          "state": {
            "_model_module": "@jupyter-widgets/controls",
            "_model_module_version": "1.5.0",
            "_model_name": "DescriptionStyleModel",
            "_view_count": null,
            "_view_module": "@jupyter-widgets/base",
            "_view_module_version": "1.2.0",
            "_view_name": "StyleView",
            "description_width": ""
          }
        }
      }
    }
  },
  "cells": [
    {
      "cell_type": "markdown",
      "metadata": {
        "id": "view-in-github",
        "colab_type": "text"
      },
      "source": [
        "<a href=\"https://colab.research.google.com/github/el-eshaano/ml/blob/main/BPE_Tokeniser.ipynb\" target=\"_parent\"><img src=\"https://colab.research.google.com/assets/colab-badge.svg\" alt=\"Open In Colab\"/></a>"
      ]
    },
    {
      "cell_type": "code",
      "execution_count": null,
      "metadata": {
        "colab": {
          "base_uri": "https://localhost:8080/"
        },
        "id": "u8Bz3p4yMW0F",
        "outputId": "41186ea9-6b29-4161-cc23-0953e9e8f68b"
      },
      "outputs": [
        {
          "output_type": "stream",
          "name": "stdout",
          "text": [
            "--2024-02-28 11:52:19--  https://raw.githubusercontent.com/karpathy/char-rnn/master/data/tinyshakespeare/input.txt\n",
            "Resolving raw.githubusercontent.com (raw.githubusercontent.com)... 185.199.111.133, 185.199.109.133, 185.199.110.133, ...\n",
            "Connecting to raw.githubusercontent.com (raw.githubusercontent.com)|185.199.111.133|:443... connected.\n",
            "HTTP request sent, awaiting response... 200 OK\n",
            "Length: 1115394 (1.1M) [text/plain]\n",
            "Saving to: ‘input.txt.1’\n",
            "\n",
            "\rinput.txt.1           0%[                    ]       0  --.-KB/s               \rinput.txt.1         100%[===================>]   1.06M  --.-KB/s    in 0.07s   \n",
            "\n",
            "2024-02-28 11:52:20 (15.8 MB/s) - ‘input.txt.1’ saved [1115394/1115394]\n",
            "\n"
          ]
        }
      ],
      "source": [
        "!wget https://raw.githubusercontent.com/karpathy/char-rnn/master/data/tinyshakespeare/input.txt"
      ]
    },
    {
      "cell_type": "code",
      "source": [
        "from typing import Dict, Tuple\n",
        "from tqdm.notebook import tqdm"
      ],
      "metadata": {
        "id": "Q60lEirdPouI"
      },
      "execution_count": null,
      "outputs": []
    },
    {
      "cell_type": "code",
      "source": [
        "with open('input.txt', 'r', encoding='utf-8') as f:\n",
        "    text = f.read()\n",
        "\n",
        "unique_chars = sorted(list(set(text)))\n",
        "vocab_size = len(unique_chars)\n",
        "\n",
        "stoi = { ch:i for i,ch in enumerate(unique_chars) }\n",
        "itos = { i:ch for i,ch in enumerate(unique_chars) }\n",
        "\n",
        "tokens = [stoi[x] for x in list(text)]"
      ],
      "metadata": {
        "id": "gpm9Sta7M4C0"
      },
      "execution_count": null,
      "outputs": []
    },
    {
      "cell_type": "code",
      "source": [
        "def get_pair_counts(tokens: list[int]) -> Dict[Tuple[int, int], int]:\n",
        "\n",
        "    pair_counts = {}\n",
        "    for pair in zip(tokens, tokens[1:]):\n",
        "        pair_counts[pair] = pair_counts.get(pair, 0) + 1\n",
        "\n",
        "    return pair_counts\n",
        "\n",
        "def replace_pair(arr, pair, replacement):\n",
        "\n",
        "    new_arr = []\n",
        "    i = 0\n",
        "    while i < len(arr):\n",
        "        if i < len(arr) - 1 and arr[i] == pair[0] and arr[i+1] == pair[1]:\n",
        "            new_arr.append(replacement)\n",
        "            i += 2\n",
        "        else:\n",
        "            new_arr.append(arr[i])\n",
        "            i += 1\n",
        "\n",
        "    return new_arr"
      ],
      "metadata": {
        "id": "3i0IKq2ORvnR"
      },
      "execution_count": null,
      "outputs": []
    },
    {
      "cell_type": "code",
      "source": [
        "desired_vocab_size = 276\n",
        "current_vocab_size = vocab_size\n",
        "# ---\n",
        "\n",
        "num_merges = desired_vocab_size - current_vocab_size\n",
        "ids = list(tokens)\n",
        "\n",
        "merges = {}\n",
        "for i in tqdm(range(num_merges), desc=\"Merges: \", leave=False):\n",
        "    pair_counts = get_pair_counts(ids)\n",
        "    max_occuring_pair = max(pair_counts, key=pair_counts.get)\n",
        "\n",
        "    if pair_counts[max_occuring_pair] == 1:\n",
        "        print(\"Max pair only occurs once, breaking from loop\")\n",
        "        break\n",
        "\n",
        "    new_token_code = current_vocab_size + i\n",
        "    ids = replace_pair(ids, max_occuring_pair, new_token_code)\n",
        "    merges[max_occuring_pair] = new_token_code\n",
        "\n"
      ],
      "metadata": {
        "colab": {
          "base_uri": "https://localhost:8080/",
          "height": 17,
          "referenced_widgets": [
            "af4ab1812ecf4266a3bf5c4b12254e6b",
            "2a1589b745c24c5e9d71dfb6baacb666",
            "079afcb7f6504d73bd50b980d4416f09",
            "5d13669947044fee8525ff4729c29e1b",
            "c37ace5d97354cd798571c1f0f650f20",
            "fff32d7f20544f81b82783174d267233",
            "10de8c608b6b4b9891eeff42eb1ea96b",
            "dd0930cfa62a4d05b17e574da7859dbd",
            "2bf0ea40066343e7841883d8481dd294",
            "358d314789f543e48848af01bbfcc39c",
            "625ec8be45b247e198fedb29c92cb4aa"
          ]
        },
        "id": "vpH68w0DSmI3",
        "outputId": "42f77c8b-14f6-40d5-ec26-bba32c52734a"
      },
      "execution_count": null,
      "outputs": [
        {
          "data": {
            "application/vnd.jupyter.widget-view+json": {
              "model_id": "af4ab1812ecf4266a3bf5c4b12254e6b",
              "version_major": 2,
              "version_minor": 0
            },
            "text/plain": [
              "Merges:   0%|          | 0/211 [00:00<?, ?it/s]"
            ]
          },
          "metadata": {},
          "output_type": "display_data"
        }
      ]
    },
    {
      "cell_type": "code",
      "source": [
        "vocab = itos.copy()\n",
        "for (p0, p1), idx in merges.items(): # ordered dictionaries baby (ly python >= 3.8)\n",
        "    vocab[idx] = vocab[p0] + vocab[p1]\n",
        "\n",
        "print(len(vocab))\n",
        "print(vocab)"
      ],
      "metadata": {
        "colab": {
          "base_uri": "https://localhost:8080/"
        },
        "id": "jmj5JkUsTBVP",
        "outputId": "7c1e7182-c610-42b7-f18f-f73d38f0b757"
      },
      "execution_count": null,
      "outputs": [
        {
          "output_type": "stream",
          "name": "stdout",
          "text": [
            "276\n",
            "{0: '\\n', 1: ' ', 2: '!', 3: '$', 4: '&', 5: \"'\", 6: ',', 7: '-', 8: '.', 9: '3', 10: ':', 11: ';', 12: '?', 13: 'A', 14: 'B', 15: 'C', 16: 'D', 17: 'E', 18: 'F', 19: 'G', 20: 'H', 21: 'I', 22: 'J', 23: 'K', 24: 'L', 25: 'M', 26: 'N', 27: 'O', 28: 'P', 29: 'Q', 30: 'R', 31: 'S', 32: 'T', 33: 'U', 34: 'V', 35: 'W', 36: 'X', 37: 'Y', 38: 'Z', 39: 'a', 40: 'b', 41: 'c', 42: 'd', 43: 'e', 44: 'f', 45: 'g', 46: 'h', 47: 'i', 48: 'j', 49: 'k', 50: 'l', 51: 'm', 52: 'n', 53: 'o', 54: 'p', 55: 'q', 56: 'r', 57: 's', 58: 't', 59: 'u', 60: 'v', 61: 'w', 62: 'x', 63: 'y', 64: 'z', 65: 'e ', 66: 'th', 67: 't ', 68: 's ', 69: 'd ', 70: ', ', 71: 'ou', 72: 'er', 73: 'in', 74: 'y ', 75: 'an', 76: ':\\n', 77: 'or', 78: 'o ', 79: 'en', 80: '\\n\\n', 81: 'ar', 82: ' th', 83: 'on', 84: 'll', 85: 'ha', 86: ',\\n', 87: '.\\n\\n', 88: 'is ', 89: 'es', 90: 'you', 91: ' s', 92: 'to ', 93: 'and ', 94: 'ow', 95: 'ea', 96: ' m', 97: ' w', 98: 'of', 99: ' h', 100: 'ing', 101: 'om', 102: ' a', 103: 'ch', 104: 'the ', 105: 'st', 106: ' b', 107: 'no', 108: 'ir', 109: 'for', 110: 've ', 111: 'e, ', 112: 'ith', 113: ' the ', 114: 'se', 115: 'li', 116: 'Th', 117: 'll ', 118: 're', 119: 'st ', 120: 'at ', 121: 'An', 122: 'I ', 123: 'ear', 124: 'im', 125: 'it', 126: 'oo', 127: 'gh', 128: 'at', 129: 'is', 130: 'le', 131: 'er ', 132: 'our', 133: 'And ', 134: \"'s \", 135: 'ee', 136: 'not ', 137: 'my ', 138: ';\\n', 139: 'ra', 140: '.\\n', 141: 'your', 142: 'ur', 143: 'hat ', 144: 'ri', 145: 'ut ', 146: 'ld ', 147: 'of ', 148: 'O:\\n', 149: 'ed ', 150: 'la', 151: 'it ', 152: 'ro', 153: 'ere ', 154: 'es ', 155: 'd, ', 156: 'un', 157: 'EN', 158: 'ke ', 159: 'y, ', 160: 'IN', 161: ' d', 162: '?\\n\\n', 163: 'as ', 164: 'fa', 165: 'with', 166: 'have ', 167: 'S:\\n', 168: ' c', 169: 'Wh', 170: 'that ', 171: 'ent', 172: 'the', 173: 'ce', 174: 'sh', 175: 'ma', 176: ' p', 177: 'ther', 178: 'be', 179: '. ', 180: 'AR', 181: 'ce ', 182: 'ing ', 183: 'al', 184: '; ', 185: 'thou', 186: 's, ', 187: 'me ', 188: 'se ', 189: 'lo', 190: 'ck', 191: 'wh', 192: 'il', 193: \"'d \", 194: 'IO:\\n', 195: 'now', 196: 'ill', 197: 'be ', 198: 'ell', 199: 'rea', 200: ' t', 201: 't, ', 202: 'ould ', 203: 'e\\n', 204: ' my ', 205: 'ver', 206: 'com', 207: 'he ', 208: ' to ', 209: ' I', 210: 'el', 211: 'US:\\n', 212: 'ol', 213: 'di', 214: ' g', 215: 'ay ', 216: 'ter', 217: 'ain', 218: ' you', 219: 'The ', 220: 'le ', 221: 'ion', 222: ' f', 223: 'ru', 224: 'if', 225: 'em', 226: 'and', 227: 'To ', 228: 'igh', 229: 'are ', 230: 'up', 231: ',\\nAnd ', 232: 'him', 233: 'ed', 234: 'ill ', 235: 'ord', 236: 'ich', 237: 'ly ', 238: 'ood ', 239: 'UC', 240: 'own', 241: 'his ', 242: 'ING', 243: ' and ', 244: 'con', 245: 'ne', 246: 'ay', 247: 'e.\\n\\n', 248: 'rom', 249: 'id', 250: 'us', 251: 'oun', 252: 'AN', 253: 'man', 254: 'ag', 255: 'ER', 256: 'OR', 257: 'et ', 258: 'res', 259: 'sel', 260: ' his ', 261: 'e,\\n', 262: 'et', 263: 'ca', 264: ' in', 265: 'sha', 266: '!\\n', 267: 'ET', 268: 'That ', 269: 'po', 270: 'qu', 271: 'thy ', 272: '!\\n\\n', 273: 'mor', 274: 'ul', 275: 'no '}\n"
          ]
        }
      ]
    },
    {
      "cell_type": "code",
      "source": [
        "def decode(ids):\n",
        "  \"\"\" given ids (list of integers), return Python string \"\"\"\n",
        "  tokens = \"\".join(vocab[idx] for idx in ids)\n",
        "  return tokens"
      ],
      "metadata": {
        "id": "EW6AQDyzV3RH"
      },
      "execution_count": null,
      "outputs": []
    },
    {
      "cell_type": "code",
      "source": [
        "def encode(string):\n",
        "    toks = [stoi[x] for x in string]\n",
        "    while len(toks) >= 2: # avoid error when only 1 token is passed\n",
        "        pair_counts = get_pair_counts(toks)\n",
        "        pair = min(pair_counts, key=lambda p: merges.get(p, float(\"inf\")))\n",
        "        if pair not in merges:\n",
        "            break # no more possible merges\n",
        "\n",
        "        new_token = merges[pair]\n",
        "        toks = replace_pair(toks, pair, new_token)\n",
        "    return toks"
      ],
      "metadata": {
        "id": "A33asZhMWvAC"
      },
      "execution_count": null,
      "outputs": []
    },
    {
      "cell_type": "code",
      "source": [
        "class BPETokeniser:\n",
        "\n",
        "    def __init__(self):\n",
        "        self.stoi = {}\n",
        "        self.vocab = {}\n",
        "        self.merges = {}\n",
        "\n",
        "    def decode(self, ids):\n",
        "        \"\"\" given ids (list of integers), return Python string \"\"\"\n",
        "        tokens = \"\".join(self.vocab[idx] for idx in ids)\n",
        "        return tokens\n",
        "\n",
        "    def encode(string):\n",
        "        toks = [self.stoi[x] for x in string]\n",
        "        while len(toks) >= 2: # avoid error when only 1 token is passed\n",
        "            pair_counts = get_pair_counts(toks)\n",
        "            pair = min(pair_counts, key=lambda p: self.merges.get(p, float(\"inf\")))\n",
        "            if pair not in self.merges:\n",
        "                break # no more possible merges\n",
        "\n",
        "            new_token = self.merges[pair]\n",
        "            toks = replace_pair(toks, pair, new_token)\n",
        "        return toks\n",
        "\n",
        "    def train(self, text, desired_vocab_size):\n",
        "        unique_chars = sorted(list(set(text)))\n",
        "        self.current_vocab_size = len(unique_chars)\n",
        "\n",
        "        self.stoi = { ch:i for i,ch in enumerate(unique_chars) }\n",
        "        self.vocab = { i:ch for i,ch in enumerate(unique_chars) }\n",
        "\n",
        "        tokens = [self.stoi[x] for x in list(text)]\n",
        "\n",
        "        num_merges = desired_vocab_size - current_vocab_size\n",
        "        ids = list(tokens)\n",
        "\n",
        "        for i in tqdm(range(num_merges), desc=\"Merges: \", leave=False):\n",
        "            pair_counts = get_pair_counts(ids)\n",
        "            max_occuring_pair = max(pair_counts, key=pair_counts.get)\n",
        "\n",
        "            if pair_counts[max_occuring_pair] == 1:\n",
        "                print(\"Max pair only occurs once, breaking from loop\")\n",
        "                break\n",
        "\n",
        "            new_token_code = current_vocab_size + i\n",
        "            ids = replace_pair(ids, max_occuring_pair, new_token_code)\n",
        "            self.merges[max_occuring_pair] = new_token_code\n",
        "\n",
        "        for (p0, p1), idx in merges.items(): # ordered dictionaries baby (ly python >= 3.8)\n",
        "            self.vocab[idx] = self.vocab[p0] + self.vocab[p1]"
      ],
      "metadata": {
        "id": "PRFNuMnShP2E"
      },
      "execution_count": null,
      "outputs": []
    },
    {
      "cell_type": "code",
      "source": [
        "bpe = BPETokeniser()"
      ],
      "metadata": {
        "id": "7EW8vmMFo5MZ"
      },
      "execution_count": null,
      "outputs": []
    },
    {
      "cell_type": "code",
      "source": [
        "bpe.train(text, desired_vocab_size=276)"
      ],
      "metadata": {
        "colab": {
          "base_uri": "https://localhost:8080/",
          "height": 17,
          "referenced_widgets": [
            "d554266c43134761994a75b70a126f42",
            "69248ae5933b425d8abecb1f323bded9",
            "724bcde6e8a04f58ae053e5c55ab9343",
            "0aa18437c75346b6bded0a2dc93099dc",
            "89a96095ed6d4b5fab5f1189eab6c350",
            "f7f97c7101df44cdada5c0c725456ef2",
            "0df05906dc724f7bb22b6c10058e28cc",
            "9f7f94bcae8642eeaa5cf8fc2fa4859c",
            "bb8304b1697141459b217b73a5b30d0c",
            "0d82e03a240442a794e4067d4da0b480",
            "e50403dd8b754bc784c8b5ddd1edbf25"
          ]
        },
        "id": "dujuW0RapBfb",
        "outputId": "828d1c74-9d8b-4ee8-ad0b-2b305503bb16"
      },
      "execution_count": null,
      "outputs": [
        {
          "output_type": "display_data",
          "data": {
            "text/plain": [
              "Merges:   0%|          | 0/211 [00:00<?, ?it/s]"
            ],
            "application/vnd.jupyter.widget-view+json": {
              "version_major": 2,
              "version_minor": 0,
              "model_id": "d554266c43134761994a75b70a126f42"
            }
          },
          "metadata": {}
        }
      ]
    },
    {
      "cell_type": "code",
      "source": [],
      "metadata": {
        "colab": {
          "base_uri": "https://localhost:8080/"
        },
        "id": "cX7OJMfapE3x",
        "outputId": "350fa85d-5bd7-4648-c112-a4d48db7121b"
      },
      "execution_count": null,
      "outputs": [
        {
          "output_type": "stream",
          "name": "stdout",
          "text": [
            "True\n"
          ]
        }
      ]
    },
    {
      "cell_type": "code",
      "source": [],
      "metadata": {
        "id": "QWRH9h-ip3pw"
      },
      "execution_count": null,
      "outputs": []
    }
  ]
}